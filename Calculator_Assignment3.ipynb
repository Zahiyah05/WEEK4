{
 "cells": [
  {
   "cell_type": "code",
   "execution_count": 1,
   "id": "a7a46482",
   "metadata": {},
   "outputs": [],
   "source": [
    "def Simple_calculator():\n",
    "    loop = 1\n",
    "    while loop == 1:\n",
    "        input1 = int(input('Enter the numerator: '))\n",
    "        input2 = int(input('Enter the denominator: '))\n",
    "        try:\n",
    "            answer = input1/input2\n",
    "            print (\"The answer is \", answer)\n",
    "            loop = 0 \n",
    "        except valueerror:\n",
    "            print (\"The number you entered was invalid. Please enter a new number\")\n",
    "            loopcheck = input(\"If you wish to try again, please type 'continue': \")\n",
    "            if loopcheck == \"continue\":\n",
    "                loop = 1\n",
    "            else:\n",
    "                loop = 0\n",
    "                \n",
    "        except Zerodivisionerror:\n",
    "            print(\"The denominator you entered was 0, Please enter a new denominator\")\n",
    "            loopcheck = input(\"If you wish to try agian, please type 'continue': \")\n",
    "            if loopcheck == \"continue\":\n",
    "                loop = 1\n",
    "            else:\n",
    "                loop = 0"
   ]
  },
  {
   "cell_type": "code",
   "execution_count": null,
   "id": "be5ae823",
   "metadata": {},
   "outputs": [],
   "source": []
  }
 ],
 "metadata": {
  "kernelspec": {
   "display_name": "Python 3 (ipykernel)",
   "language": "python",
   "name": "python3"
  },
  "language_info": {
   "codemirror_mode": {
    "name": "ipython",
    "version": 3
   },
   "file_extension": ".py",
   "mimetype": "text/x-python",
   "name": "python",
   "nbconvert_exporter": "python",
   "pygments_lexer": "ipython3",
   "version": "3.11.5"
  }
 },
 "nbformat": 4,
 "nbformat_minor": 5
}
